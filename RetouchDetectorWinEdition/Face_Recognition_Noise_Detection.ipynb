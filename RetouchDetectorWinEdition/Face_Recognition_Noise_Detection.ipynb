{
 "cells": [
  {
   "cell_type": "markdown",
   "metadata": {},
   "source": [
    "## GOAL:\n",
    "The goal of this script is to detect faces & noises in images in a quick way.\n",
    "To create a dataset we need to have many images as soon as possible.\n",
    "And to detect the air brush filter we need to use some ways.\n",
    "One of the quickest way is Median noise detection.\n",
    "Darker areas are photoshopped if the photo is not blurred or low-res.\n",
    "In a photoshopped face, (air brush filter to smooth) hair, eyes and lips are brighter while cheeks are dark etc.\n",
    "Consider this while cleaning your data.\n",
    "If you are not sure, check the original photo as well.\n",
    "If you still are not sure about it, DELETE IMAGE.\n",
    "\n",
    "## USE JPG!"
   ]
  },
  {
   "cell_type": "markdown",
   "metadata": {},
   "source": [
    "### Imports"
   ]
  },
  {
   "cell_type": "code",
   "execution_count": 8,
   "metadata": {},
   "outputs": [],
   "source": [
    "import numpy as np\n",
    "import cv2, sys, os, datetime\n",
    "from PIL import Image as im\n",
    "import glob\n",
    "from IPython.display import Image, display\n",
    "from matplotlib import pyplot as plt"
   ]
  },
  {
   "cell_type": "markdown",
   "metadata": {},
   "source": [
    "### Face Recognition Libraries"
   ]
  },
  {
   "cell_type": "code",
   "execution_count": 9,
   "metadata": {},
   "outputs": [],
   "source": [
    "face_cascade = cv2.CascadeClassifier(cv2.data.haarcascades + 'haarcascade_frontalface_default.xml')\n",
    "eye_cascade = cv2.CascadeClassifier(cv2.data.haarcascades + 'haarcascade_eye.xml')\n",
    "nose_cascade = cv2.CascadeClassifier(cv2.data.haarcascades + 'haarcascade_mcs_nose.xml')\n",
    "mouth_cascade = cv2.CascadeClassifier(cv2.data.haarcascades + 'haarcascade_mcs_mouth.xml')"
   ]
  },
  {
   "cell_type": "markdown",
   "metadata": {},
   "source": [
    "#### Directory Path Creation\n",
    "Eyes, Nose and Mouth are commented out. \n",
    "Remove comment markings if needed.\n",
    "outputs/currentdate/face/..."
   ]
  },
  {
   "cell_type": "code",
   "execution_count": 10,
   "metadata": {},
   "outputs": [
    {
     "data": {
      "text/plain": [
       "'if not os.path.exists(eye_save_path):\\n      os.makedirs(eye_save_path)\\nif not os.path.exists(nose_save_path):\\n      os.makedirs(nose_save_path)\\nif not os.path.exists(mouth_save_path):\\n      os.makedirs(mouth_save_path)'"
      ]
     },
     "execution_count": 10,
     "metadata": {},
     "output_type": "execute_result"
    }
   ],
   "source": [
    "current_date_path = \"outputs/\" + datetime.datetime.now().strftime(\"%H-%M\")        \n",
    "face_save_path = current_date_path + '/face/'\n",
    "\"\"\"eye_save_path = current_date_path + '/eyes/' \n",
    "nose_save_path = current_date_path + '/nose/' \n",
    "mouth_save_path = current_date_path + '/mouth/' \"\"\"\n",
    "\n",
    "if not os.path.exists(current_date_path):\n",
    "      os.makedirs(current_date_path)\n",
    "if not os.path.exists(face_save_path):\n",
    "      os.makedirs(face_save_path)\n",
    "\"\"\"if not os.path.exists(eye_save_path):\n",
    "      os.makedirs(eye_save_path)\n",
    "if not os.path.exists(nose_save_path):\n",
    "      os.makedirs(nose_save_path)\n",
    "if not os.path.exists(mouth_save_path):\n",
    "      os.makedirs(mouth_save_path)\"\"\""
   ]
  },
  {
   "cell_type": "markdown",
   "metadata": {},
   "source": [
    "### Noise Detection\n",
    "Using median filter it converts image located in 'path' in a noised format\n",
    "This will help put to detect photoshopped photos manually.\n",
    "*For further studies: Noised photo brightness can be enlightened and can be used for model creation\n",
    "\n",
    "#### UNCOMMENT DISPLAY ONLY IF YOU USE ONE IMAGE PER RUN"
   ]
  },
  {
   "cell_type": "code",
   "execution_count": 11,
   "metadata": {},
   "outputs": [],
   "source": [
    "def detect_noise(path):\n",
    "    print(\"Detecting noise\")\n",
    "    print(\"-\" * 30)\n",
    "    img = im.open(path + '.jpg').convert(\"L\")\n",
    "    arr = np.array(img)\n",
    "    removed_noise = median_filter(arr, 3) \n",
    "    s = arr - removed_noise\n",
    "    img = im.fromarray(s)\n",
    "    if img.mode != 'RGB':\n",
    "        img = img.convert('RGB')\n",
    "    img.save(path + \"_noise.jpg\")\n",
    "    display(img)"
   ]
  },
  {
   "cell_type": "code",
   "execution_count": 12,
   "metadata": {},
   "outputs": [],
   "source": [
    "def median_filter(data, filter_size):\n",
    "    temp = []\n",
    "    indexer = filter_size // 2\n",
    "    data_final = []\n",
    "    data_final = np.zeros((len(data),len(data[0])))\n",
    "    for i in range(len(data)):\n",
    "\n",
    "        for j in range(len(data[0])):\n",
    "\n",
    "            for z in range(filter_size):\n",
    "                if i + z - indexer < 0 or i + z - indexer > len(data) - 1:\n",
    "                    for c in range(filter_size):\n",
    "                        temp.append(0)\n",
    "                else:\n",
    "                    if j + z - indexer < 0 or j + indexer > len(data[0]) - 1:\n",
    "                        temp.append(0)\n",
    "                    else:\n",
    "                        for k in range(filter_size):\n",
    "                            temp.append(data[i + z - indexer][j + k - indexer])\n",
    "\n",
    "            temp.sort()\n",
    "            data_final[i][j] = temp[len(temp) // 2]\n",
    "            temp = []\n",
    "    return data_final"
   ]
  },
  {
   "cell_type": "markdown",
   "metadata": {},
   "source": [
    "### Face Recognition using OpenCV\n",
    "Eyes, Nose and Mouth are commented out.\n",
    "##### Resize function: \n",
    "Make every photo in same width and height. (Some networks need this.)\n",
    "\n",
    "To resize the original images initially: (Do this in face_recognition!!)\n",
    "image = Image.open('path')\n",
    "new_image = image.resize((400, 400))"
   ]
  },
  {
   "cell_type": "code",
   "execution_count": 13,
   "metadata": {},
   "outputs": [],
   "source": [
    "def face_recognition(image_name, image_extension):\n",
    "    print(\"Recognizing...\")\n",
    "    print(\"-\" * 30)\n",
    "    img = cv2.imread(image_name + image_extension)\n",
    "    ##RESIZE IMAGE HERE IF NEEDED!!\n",
    "    gray = cv2.cvtColor(img,cv2.COLOR_BGR2GRAY)\n",
    "    \n",
    "    plt.imshow(img)\n",
    "    plt.show()\n",
    "    \n",
    "    faces = face_cascade.detectMultiScale(gray, 1.3, 15)\n",
    "    \n",
    "    count_face = 0\n",
    "    \n",
    "    for (x,y,w,h) in faces:              \n",
    "        \n",
    "        roi_gray = gray[y:y+h, x:x+w]\n",
    "        roi_color = img[y:y+h, x:x+w]\n",
    "        face_path = face_save_path + image_name + \"_%d_face\" % count_face\n",
    "        cv2.imwrite(face_path + '.jpg', roi_color)\n",
    "        #img = cv2.rectangle(img,(x,y),(x+w,y+h),(255,0,0),1)  \n",
    "        \n",
    "        detect_noise(face_path)\n",
    "        \n",
    "        \"\"\"eyes = eye_cascade.detectMultiScale(roi_gray, 1.3, 5)\n",
    "        count_eye = 0\n",
    "        for (ex,ey,ew,eh) in eyes:\n",
    "            crop_eye = roi_color[ey: ey + eh, ex: ex + ew]\n",
    "            eye_path = eye_save_path + image_name + \"_%d_eye\" % count_eye\n",
    "            cv2.imwrite(eye_path + '.jpg', crop_eye)\n",
    "            #cv2.rectangle(roi_color,(ex,ey),(ex+ew,ey+eh),(0,255,0),2)\n",
    "            count_eye += 1\n",
    "            detect_noise(eye_path)\n",
    "            \n",
    "        noses = nose_cascade.detectMultiScale(roi_gray, 1.3, 5)\n",
    "        count_nose = 0        \n",
    "        for (ex,ey,ew,eh) in noses:\n",
    "            crop_nose = roi_color[ey: ey + eh, ex: ex + ew]\n",
    "            nose_path = nose_save_path + image_name + \"_%d_nose\" % count_nose\n",
    "            cv2.imwrite(nose_path + '.jpg', crop_nose)\n",
    "            #cv2.rectangle(roi_color,(ex,ey),(ex+ew,ey+eh),(0,0,255),2)\n",
    "            count_nose += 1\n",
    "            detect_noise(nose_path)\n",
    "\n",
    "        mouths = mouth_cascade.detectMultiScale(roi_gray, 2.25, 15)\n",
    "        count_mouth = 0        \n",
    "        for (ex,ey,ew,eh) in mouths:\n",
    "            ey = int(ey - 0.15*eh)\n",
    "            crop_mouth = roi_color[ey: ey + eh, ex: ex + ew]\n",
    "            mouth_path = mouth_save_path + image_name + \"_%d_mouth\" % count_mouth \n",
    "            cv2.imwrite(mouth_path + '.jpg', crop_mouth)\n",
    "            #cv2.rectangle(roi_color,(ex,ey),(ex+ew,ey+eh),(255,255,255),2)\n",
    "            count_mouth += 1\n",
    "            detect_noise(mouth_path)\"\"\"\n",
    "        count_face += 1\n",
    "    \n",
    "    #RESIZE\n",
    "    \"\"\"scale_percent = 40 # percent of original size\n",
    "    width = int(roi_color.shape[1] * scale_percent / 100)\n",
    "    height = int(roi_color.shape[0] * scale_percent / 100)\n",
    "    dim = (width, height)\n",
    "    # resize image\n",
    "    resized = cv2.resize(roi_color, dim, interpolation = cv2.INTER_AREA)\n",
    "\n",
    "    cv2.imshow('resized',resized)\n",
    "    cv2.waitKey(0)\n",
    "    cv2.destroyAllWindows()\"\"\""
   ]
  },
  {
   "cell_type": "markdown",
   "metadata": {},
   "source": [
    "### Load Image OR Load Image Directory\n",
    "##### Load Image Directory:\n",
    "    for root, dirs, files in os.walk(\"reference\"):\n",
    "        for file in files:\n",
    "            image_name = os.path.splitext(os.path.basename(file))[0]\n",
    "            image_extension = os.path.splitext(os.path.basename(file))[1]\n",
    "            print(image_name)\n",
    "            face_recognition(image_name, image_extension)\n",
    "##### Load Image:\n",
    "    image_name = 'a' -- If the image is in a different folder than ipynb give full path!!!\n",
    "    image_extension = '.jpg'\n",
    "    face_recognition(image_name, image_extension)\n",
    "    \n",
    "#### Paste the necessary code piece to the cell below!"
   ]
  },
  {
   "cell_type": "code",
   "execution_count": 14,
   "metadata": {},
   "outputs": [
    {
     "name": "stdout",
     "output_type": "stream",
     "text": [
      "test\n",
      "Recognizing...\n",
      "------------------------------\n"
     ]
    },
    {
     "ename": "error",
     "evalue": "OpenCV(4.2.0) C:\\projects\\opencv-python\\opencv\\modules\\imgproc\\src\\color.cpp:182: error: (-215:Assertion failed) !_src.empty() in function 'cv::cvtColor'\n",
     "output_type": "error",
     "traceback": [
      "\u001b[1;31m---------------------------------------------------------------------------\u001b[0m",
      "\u001b[1;31merror\u001b[0m                                     Traceback (most recent call last)",
      "\u001b[1;32m<ipython-input-14-874e0d126e58>\u001b[0m in \u001b[0;36m<module>\u001b[1;34m\u001b[0m\n\u001b[0;32m      6\u001b[0m             \u001b[0mimage_extension\u001b[0m \u001b[1;33m=\u001b[0m \u001b[0mos\u001b[0m\u001b[1;33m.\u001b[0m\u001b[0mpath\u001b[0m\u001b[1;33m.\u001b[0m\u001b[0msplitext\u001b[0m\u001b[1;33m(\u001b[0m\u001b[0mos\u001b[0m\u001b[1;33m.\u001b[0m\u001b[0mpath\u001b[0m\u001b[1;33m.\u001b[0m\u001b[0mbasename\u001b[0m\u001b[1;33m(\u001b[0m\u001b[0mfile\u001b[0m\u001b[1;33m)\u001b[0m\u001b[1;33m)\u001b[0m\u001b[1;33m[\u001b[0m\u001b[1;36m1\u001b[0m\u001b[1;33m]\u001b[0m\u001b[1;33m\u001b[0m\u001b[0m\n\u001b[0;32m      7\u001b[0m             \u001b[0mprint\u001b[0m\u001b[1;33m(\u001b[0m\u001b[0mimage_name\u001b[0m\u001b[1;33m)\u001b[0m\u001b[1;33m\u001b[0m\u001b[0m\n\u001b[1;32m----> 8\u001b[1;33m             \u001b[0mface_recognition\u001b[0m\u001b[1;33m(\u001b[0m\u001b[0mimage_name\u001b[0m\u001b[1;33m,\u001b[0m \u001b[0mimage_extension\u001b[0m\u001b[1;33m)\u001b[0m\u001b[1;33m\u001b[0m\u001b[0m\n\u001b[0m\u001b[0;32m      9\u001b[0m     \u001b[0mprint\u001b[0m\u001b[1;33m(\u001b[0m\u001b[1;34m\"DONE\"\u001b[0m\u001b[1;33m)\u001b[0m\u001b[1;33m\u001b[0m\u001b[0m\n",
      "\u001b[1;32m<ipython-input-13-73daf1b19dc8>\u001b[0m in \u001b[0;36mface_recognition\u001b[1;34m(image_name, image_extension)\u001b[0m\n\u001b[0;32m      4\u001b[0m     \u001b[0mimg\u001b[0m \u001b[1;33m=\u001b[0m \u001b[0mcv2\u001b[0m\u001b[1;33m.\u001b[0m\u001b[0mimread\u001b[0m\u001b[1;33m(\u001b[0m\u001b[0mimage_name\u001b[0m \u001b[1;33m+\u001b[0m \u001b[0mimage_extension\u001b[0m\u001b[1;33m)\u001b[0m\u001b[1;33m\u001b[0m\u001b[0m\n\u001b[0;32m      5\u001b[0m     \u001b[1;31m##RESIZE IMAGE HERE IF NEEDED!!\u001b[0m\u001b[1;33m\u001b[0m\u001b[1;33m\u001b[0m\u001b[0m\n\u001b[1;32m----> 6\u001b[1;33m     \u001b[0mgray\u001b[0m \u001b[1;33m=\u001b[0m \u001b[0mcv2\u001b[0m\u001b[1;33m.\u001b[0m\u001b[0mcvtColor\u001b[0m\u001b[1;33m(\u001b[0m\u001b[0mimg\u001b[0m\u001b[1;33m,\u001b[0m\u001b[0mcv2\u001b[0m\u001b[1;33m.\u001b[0m\u001b[0mCOLOR_BGR2GRAY\u001b[0m\u001b[1;33m)\u001b[0m\u001b[1;33m\u001b[0m\u001b[0m\n\u001b[0m\u001b[0;32m      7\u001b[0m \u001b[1;33m\u001b[0m\u001b[0m\n\u001b[0;32m      8\u001b[0m     \u001b[0mplt\u001b[0m\u001b[1;33m.\u001b[0m\u001b[0mimshow\u001b[0m\u001b[1;33m(\u001b[0m\u001b[0mimg\u001b[0m\u001b[1;33m)\u001b[0m\u001b[1;33m\u001b[0m\u001b[0m\n",
      "\u001b[1;31merror\u001b[0m: OpenCV(4.2.0) C:\\projects\\opencv-python\\opencv\\modules\\imgproc\\src\\color.cpp:182: error: (-215:Assertion failed) !_src.empty() in function 'cv::cvtColor'\n"
     ]
    }
   ],
   "source": [
    "import glob\n",
    "if __name__ == '__main__':\n",
    "    for root, dirs, files in os.walk(\"originals\"):\n",
    "        for file in files:\n",
    "            image_name = os.path.splitext(os.path.basename(file))[0]\n",
    "            image_extension = os.path.splitext(os.path.basename(file))[1]\n",
    "            print(image_name)\n",
    "            face_recognition(image_name, image_extension)\n",
    "    print(\"DONE\")"
   ]
  }
 ],
 "metadata": {
  "kernelspec": {
   "display_name": "Python 3",
   "language": "python",
   "name": "python3"
  },
  "language_info": {
   "codemirror_mode": {
    "name": "ipython",
    "version": 3
   },
   "file_extension": ".py",
   "mimetype": "text/x-python",
   "name": "python",
   "nbconvert_exporter": "python",
   "pygments_lexer": "ipython3",
   "version": "3.6.1"
  }
 },
 "nbformat": 4,
 "nbformat_minor": 4
}
